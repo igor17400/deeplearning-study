{
 "cells": [
  {
   "cell_type": "markdown",
   "metadata": {},
   "source": [
    "## Libraries"
   ]
  },
  {
   "cell_type": "code",
   "execution_count": 12,
   "metadata": {},
   "outputs": [],
   "source": [
    "import numpy as np\n",
    "import pandas as pd\n",
    "import scipy.stats\n",
    "import matplotlib.pyplot as plt"
   ]
  },
  {
   "cell_type": "markdown",
   "metadata": {},
   "source": [
    "# Bayes' Rule\n",
    "\n",
    "Bayes' Rule, named after the Reverend Thomas Bayes, is a fundamental theorem in probability theory. It describes how to update the probabilities of hypotheses when given evidence. Bayes' Rule is expressed mathematically as:\n",
    "\n",
    "$$\n",
    "P(A|B) = \\frac{P(B|A) \\cdot P(A)}{P(B)}\n",
    "$$\n",
    "\n",
    "where:\n",
    "\n",
    "- $P(A|B)$ is the posterior probability: the probability of hypothesis \\( A \\) given the evidence \\( B \\).\n",
    "- $P(B|A)$ is the likelihood: the probability of evidence \\( B \\) given that hypothesis \\( A \\) is true.\n",
    "- $P(A)$ is the prior probability: the initial probability of hypothesis \\( A \\) before seeing the evidence \\( B \\).\n",
    "- $P(B)$ is the marginal likelihood: the total probability of the evidence \\( B \\) under all possible hypotheses."
   ]
  },
  {
   "cell_type": "markdown",
   "metadata": {},
   "source": [
    "### Explanation\n",
    "\n",
    "- **Prior Probability ($P(A)$)**: This represents our initial belief about the probability of the hypothesis $A$ before considering any new evidence.\n",
    "  \n",
    "- **Likelihood ($P(B|A)$)**: This represents the probability of observing the evidence $B$ assuming that the hypothesis $A$ is true.\n",
    "  \n",
    "- **Posterior Probability ($P(A|B)$)**: This is the updated probability of the hypothesis $A$ after taking the new evidence $B$ into account.\n",
    "\n",
    "- **Marginal Likelihood ($P(B)$)**: This is the probability of observing the evidence $B$ under all possible hypotheses. It can be calculated as:\n",
    "  \n",
    "  $$\n",
    "  P(B) = \\sum_{i} P(B|A_i) \\cdot P(A_i)\n",
    "  $$\n",
    "\n",
    "  where $A_i$ represents all possible hypotheses."
   ]
  },
  {
   "cell_type": "markdown",
   "metadata": {},
   "source": [
    "Based on the theory above, let's see a practical use of Bayes' theorem from the reference: https://statsthinking21.github.io/statsthinking21-python/10-BayesianStatistics.html"
   ]
  },
  {
   "cell_type": "markdown",
   "metadata": {},
   "source": [
    "> A person has a cough and flu-like symptoms, and gets a PCR test for COVID-19, which comes back positive. What is the likelihood that they actually have COVID-19, as opposed to a regular cold or flu? \n",
    "\n",
    "*We can use Bayes’ theorem to compute this!* \n",
    "\n",
    "> Let’s say that the local rate of symptomatic individuals who actually are infected with COVID-19 is 7.4% (as reported on July 10, 2020 for San Francisco); thus, our prior probability that someone with symptoms actually has COVID-19 is .074. \n",
    "\n",
    ">The RT-PCR test used to identify COVID-19 RNA is highly specific (that is, it very rarelly reports the presence of the virus when it is not present); for our example, we will say that the specificity is 99%. Its sensitivity is not known, but probably is no higher than 90%."
   ]
  },
  {
   "cell_type": "markdown",
   "metadata": {},
   "source": [
    "First let’s look at the probability of disease given a single positive test. We know that the specificity is 99% \n",
    "\n",
    "$$sp = specificity = 0.99$$\n",
    "\n",
    "And that the sensitivity is \n",
    "\n",
    "$$sen = sensitivity > 0.90$$\n",
    "\n",
    "Then, based on previous data we can stablish a prior belief that someone with symptons actually has COVID-19 is \n",
    "\n",
    "$$prior = 0.074$$"
   ]
  },
  {
   "cell_type": "code",
   "execution_count": 9,
   "metadata": {},
   "outputs": [],
   "source": [
    "sen = 0.90 # sensitivity - let's guess a number for sensitivity\n",
    "sp = 0.99 # specificity\n",
    "prior = 0.074 # prior probability that someone with symptoms actually has COVID-19"
   ]
  },
  {
   "cell_type": "markdown",
   "metadata": {},
   "source": [
    "Thus, \n",
    "\n",
    "$$\n",
    "P(\\text{disease present} \\mid \\text{test is positive}) = \\frac{P(\\text{test is positive} \\mid \\text{disease present}) P(\\text{disease present})}{P(\\text{test is positive})}\n",
    "$$\n",
    "\n",
    "where,\n",
    "\n",
    "$$\n",
    "P(\\text{test is positive}) = P(\\text{test is positive} \\mid \\text{disease present})P(\\text{disease present}) + \\\\\n",
    "P(\\text{test is positive} \\mid \\text{disease NOT present})P(\\text{disease NOT present})\n",
    "$$\n",
    "\n",
    "Then, we can call such variables with the following names:\n",
    "\n",
    "- prior = $P(\\text{disease present})$\n",
    "\n",
    "- posterior = $P(\\text{disease present} \\mid \\text{test is positive})$"
   ]
  },
  {
   "cell_type": "code",
   "execution_count": 10,
   "metadata": {},
   "outputs": [],
   "source": [
    "p_disease_present = prior # based on our prior analysis of the data\n",
    "p_disease_NOT_present = 1 - prior\n",
    "\n",
    "# sensitivity give us how sensitive to the virus is the test\n",
    "# specificity give us probability of being wrong\n",
    "p_test_is_positive = sen * p_disease_present + (1 - sp) * p_disease_NOT_present"
   ]
  },
  {
   "cell_type": "code",
   "execution_count": 11,
   "metadata": {},
   "outputs": [
    {
     "name": "stdout",
     "output_type": "stream",
     "text": [
      "The probability of the disease is present given that the test is positive is 87.79330345373056%\n"
     ]
    }
   ],
   "source": [
    "p_diseas_present_test_is_positive = (sen * p_disease_present) / p_test_is_positive\n",
    "print(\n",
    "    f\"The probability of the disease is present given that the test is positive is {p_diseas_present_test_is_positive*100}%\"\n",
    ")"
   ]
  },
  {
   "cell_type": "markdown",
   "metadata": {},
   "source": [
    "> The high specificity of the test, along with the relatively high base rate of the disease, means that most people who test positive actually have the disease. Now let’s plot the posterior as a function of the prior. Let’s first create a function to compute the posterior, and then apply this with a range of values for the prior."
   ]
  },
  {
   "cell_type": "code",
   "execution_count": 15,
   "metadata": {},
   "outputs": [
    {
     "data": {
      "image/png": "[encoded data removed]",
      "text/plain": [
       "<Figure size 640x480 with 1 Axes>"
      ]
     },
     "metadata": {},
     "output_type": "display_data"
    }
   ],
   "source": [
    "def compute_posterior(prior, sensitivity, specificity):\n",
    "    likelihood = sensitivity  # p(test|disease present) \n",
    "    marginal_likelihood = sensitivity * prior + (1 - specificity) * (1 - prior)\n",
    "    posterior = (likelihood * prior) / marginal_likelihood\n",
    "    return(posterior)\n",
    "\n",
    "\n",
    "prior_values = np.arange(0.001, 0.5, 0.001)\n",
    "posterior_values = compute_posterior(prior_values, sen, sp)\n",
    "\n",
    "plt.plot(prior_values, posterior_values)\n",
    "plt.xlabel('prior = P(disease is present)')\n",
    "_ = plt.ylabel('posterior = P(disease present | test is positive)')"
   ]
  },
  {
   "cell_type": "markdown",
   "metadata": {},
   "source": [
    "> This figure highlights a very important general point about diagnostic testing: Even when the test has high specificity, if a condition is rare then most positive test results will be false positives."
   ]
  }
 ],
 "metadata": {
  "kernelspec": {
   "display_name": "torch-gpu",
   "language": "python",
   "name": "python3"
  },
  "language_info": {
   "codemirror_mode": {
    "name": "ipython",
    "version": 3
   },
   "file_extension": ".py",
   "mimetype": "text/x-python",
   "name": "python",
   "nbconvert_exporter": "python",
   "pygments_lexer": "ipython3",
   "version": "3.10.13"
  }
 },
 "nbformat": 4,
 "nbformat_minor": 2
}
